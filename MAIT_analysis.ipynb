{
 "cells": [
  {
   "cell_type": "code",
   "execution_count": 173,
   "metadata": {
    "collapsed": true
   },
   "outputs": [],
   "source": [
    "import numpy as np\n",
    "import pandas as pd\n",
    "%matplotlib inline\n",
    "import matplotlib.pyplot as plt\n",
    "from scipy.stats import ttest_ind"
   ]
  },
  {
   "cell_type": "code",
   "execution_count": 174,
   "metadata": {
    "collapsed": false
   },
   "outputs": [],
   "source": [
    "df = pd.read_csv('C:\\\\Users\\\\Chris\\\\python_notes\\\\MAIT_python\\\\Datasets\\\\MAIT_cleaned.csv')"
   ]
  },
  {
   "cell_type": "markdown",
   "metadata": {},
   "source": [
    "## Story 1 Analysis: Reproduction\n",
    "\n",
    "On a scale of 1 to 7, the average morality rating of Story 1 was **1.96** (lower means less moral):"
   ]
  },
  {
   "cell_type": "code",
   "execution_count": 175,
   "metadata": {
    "collapsed": false
   },
   "outputs": [
    {
     "data": {
      "text/plain": [
       "1.9607843137254901"
      ]
     },
     "execution_count": 175,
     "metadata": {},
     "output_type": "execute_result"
    }
   ],
   "source": [
    "df['s1.moralGEN'].mean()"
   ]
  },
  {
   "cell_type": "markdown",
   "metadata": {},
   "source": [
    "Among participants who read about an in-group perpetrator, the average morality rating was **2.09**:"
   ]
  },
  {
   "cell_type": "code",
   "execution_count": 176,
   "metadata": {
    "collapsed": false
   },
   "outputs": [
    {
     "data": {
      "text/plain": [
       "(2.085714285714286, 1.6155754496814578)"
      ]
     },
     "execution_count": 176,
     "metadata": {},
     "output_type": "execute_result"
    }
   ],
   "source": [
    "s1_ingroup = df['s1.group'] == 'in'\n",
    "s1_in_moralGEN = df[s1_ingroup]['s1.moralGEN']\n",
    "ingroup_condition_mean = df[s1_ingroup]['s1.moralGEN'].mean()\n",
    "ingroup_condition_std = df[s1_ingroup]['s1.moralGEN'].std()\n",
    "ingroup_condition_mean, ingroup_condition_std"
   ]
  },
  {
   "cell_type": "markdown",
   "metadata": {},
   "source": [
    "Among pp's who read about an out-group perpetrator, the average morality rating was **1.69**:"
   ]
  },
  {
   "cell_type": "code",
   "execution_count": 177,
   "metadata": {
    "collapsed": false,
    "scrolled": true
   },
   "outputs": [
    {
     "data": {
      "text/plain": [
       "(1.6875, 0.6020797289396148)"
      ]
     },
     "execution_count": 177,
     "metadata": {},
     "output_type": "execute_result"
    }
   ],
   "source": [
    "s1_outgroup = df['s1.group'] == 'out'\n",
    "s1_out_moralGEN = df[s1_outgroup]['s1.moralGEN']\n",
    "outgroup_condition_mean = df[s1_outgroup]['s1.moralGEN'].mean()\n",
    "outgroup_condition_std = df[s1_outgroup]['s1.moralGEN'].std()\n",
    "outgroup_condition_mean, outgroup_condition_std"
   ]
  },
  {
   "cell_type": "markdown",
   "metadata": {},
   "source": [
    "## T-Test\n",
    "Based on this result we cannot reject the null hypothesis (statistic=1.277, pvalue=0.208):"
   ]
  },
  {
   "cell_type": "code",
   "execution_count": 178,
   "metadata": {
    "collapsed": false
   },
   "outputs": [
    {
     "data": {
      "text/plain": [
       "Ttest_indResult(statistic=1.2770753302463267, pvalue=0.20774479530420978)"
      ]
     },
     "execution_count": 178,
     "metadata": {},
     "output_type": "execute_result"
    }
   ],
   "source": [
    "ttest_ind(df[s1_ingroup]['s1.moralGEN'], df[s1_outgroup]['s1.moralGEN'], equal_var=False)"
   ]
  },
  {
   "cell_type": "markdown",
   "metadata": {},
   "source": [
    "## PP's per condition"
   ]
  },
  {
   "cell_type": "code",
   "execution_count": 179,
   "metadata": {
    "collapsed": false
   },
   "outputs": [
    {
     "data": {
      "text/plain": [
       "35"
      ]
     },
     "execution_count": 179,
     "metadata": {},
     "output_type": "execute_result"
    }
   ],
   "source": [
    "len(df[s1_ingroup]['s1.moralGEN'])"
   ]
  },
  {
   "cell_type": "code",
   "execution_count": 180,
   "metadata": {
    "collapsed": false
   },
   "outputs": [
    {
     "data": {
      "text/plain": [
       "16"
      ]
     },
     "execution_count": 180,
     "metadata": {},
     "output_type": "execute_result"
    }
   ],
   "source": [
    "len(df[s1_outgroup]['s1.moralGEN'])"
   ]
  },
  {
   "cell_type": "markdown",
   "metadata": {},
   "source": [
    "## Plots\n",
    "### Ingroup"
   ]
  },
  {
   "cell_type": "code",
   "execution_count": 181,
   "metadata": {
    "collapsed": false
   },
   "outputs": [
    {
     "data": {
      "text/plain": [
       "<matplotlib.axes._subplots.AxesSubplot at 0x1b12070bcc0>"
      ]
     },
     "execution_count": 181,
     "metadata": {},
     "output_type": "execute_result"
    },
    {
     "data": {
      "image/png": "[encoded data removed]",
      "text/plain": [
       "<matplotlib.figure.Figure at 0x1b12070b358>"
      ]
     },
     "metadata": {},
     "output_type": "display_data"
    }
   ],
   "source": [
    "df[s1_ingroup]['s1.moralGEN'].plot(kind='hist', xlim=(1,7))"
   ]
  },
  {
   "cell_type": "markdown",
   "metadata": {},
   "source": [
    "## Outgroup"
   ]
  },
  {
   "cell_type": "code",
   "execution_count": 182,
   "metadata": {
    "collapsed": false,
    "scrolled": true
   },
   "outputs": [
    {
     "data": {
      "text/plain": [
       "<matplotlib.axes._subplots.AxesSubplot at 0x1b1204314e0>"
      ]
     },
     "execution_count": 182,
     "metadata": {},
     "output_type": "execute_result"
    },
    {
     "data": {
      "image/png": "[encoded data removed]",
      "text/plain": [
       "<matplotlib.figure.Figure at 0x1b12048f7f0>"
      ]
     },
     "metadata": {},
     "output_type": "display_data"
    }
   ],
   "source": [
    "df[s1_outgroup]['s1.moralGEN'].plot(kind='hist', xlim=(1,7))"
   ]
  },
  {
   "cell_type": "markdown",
   "metadata": {},
   "source": [
    "## Glorification Inter-item Reliability\n",
    "Compute correlation matrix for the glorification items to determine whether they hang together."
   ]
  },
  {
   "cell_type": "code",
   "execution_count": 183,
   "metadata": {
    "collapsed": false
   },
   "outputs": [],
   "source": [
    "glor = df[['glor1', 'glor2', 'glor3', 'glor4', 'glor5', 'glor6', 'glor7']]"
   ]
  },
  {
   "cell_type": "code",
   "execution_count": 184,
   "metadata": {
    "collapsed": false
   },
   "outputs": [
    {
     "data": {
      "text/html": [
       "<div>\n",
       "<table border=\"1\" class=\"dataframe\">\n",
       "  <thead>\n",
       "    <tr style=\"text-align: right;\">\n",
       "      <th></th>\n",
       "      <th>glor1</th>\n",
       "      <th>glor2</th>\n",
       "      <th>glor3</th>\n",
       "      <th>glor4</th>\n",
       "      <th>glor5</th>\n",
       "      <th>glor6</th>\n",
       "      <th>glor7</th>\n",
       "    </tr>\n",
       "  </thead>\n",
       "  <tbody>\n",
       "    <tr>\n",
       "      <th>glor1</th>\n",
       "      <td>1.000000</td>\n",
       "      <td>0.449206</td>\n",
       "      <td>0.620135</td>\n",
       "      <td>0.458426</td>\n",
       "      <td>0.369847</td>\n",
       "      <td>0.714422</td>\n",
       "      <td>0.294257</td>\n",
       "    </tr>\n",
       "    <tr>\n",
       "      <th>glor2</th>\n",
       "      <td>0.449206</td>\n",
       "      <td>1.000000</td>\n",
       "      <td>0.505198</td>\n",
       "      <td>0.634064</td>\n",
       "      <td>0.332955</td>\n",
       "      <td>0.495764</td>\n",
       "      <td>0.338035</td>\n",
       "    </tr>\n",
       "    <tr>\n",
       "      <th>glor3</th>\n",
       "      <td>0.620135</td>\n",
       "      <td>0.505198</td>\n",
       "      <td>1.000000</td>\n",
       "      <td>0.541427</td>\n",
       "      <td>0.402189</td>\n",
       "      <td>0.493316</td>\n",
       "      <td>0.175426</td>\n",
       "    </tr>\n",
       "    <tr>\n",
       "      <th>glor4</th>\n",
       "      <td>0.458426</td>\n",
       "      <td>0.634064</td>\n",
       "      <td>0.541427</td>\n",
       "      <td>1.000000</td>\n",
       "      <td>0.213433</td>\n",
       "      <td>0.477380</td>\n",
       "      <td>0.311898</td>\n",
       "    </tr>\n",
       "    <tr>\n",
       "      <th>glor5</th>\n",
       "      <td>0.369847</td>\n",
       "      <td>0.332955</td>\n",
       "      <td>0.402189</td>\n",
       "      <td>0.213433</td>\n",
       "      <td>1.000000</td>\n",
       "      <td>0.351089</td>\n",
       "      <td>0.044802</td>\n",
       "    </tr>\n",
       "    <tr>\n",
       "      <th>glor6</th>\n",
       "      <td>0.714422</td>\n",
       "      <td>0.495764</td>\n",
       "      <td>0.493316</td>\n",
       "      <td>0.477380</td>\n",
       "      <td>0.351089</td>\n",
       "      <td>1.000000</td>\n",
       "      <td>0.230124</td>\n",
       "    </tr>\n",
       "    <tr>\n",
       "      <th>glor7</th>\n",
       "      <td>0.294257</td>\n",
       "      <td>0.338035</td>\n",
       "      <td>0.175426</td>\n",
       "      <td>0.311898</td>\n",
       "      <td>0.044802</td>\n",
       "      <td>0.230124</td>\n",
       "      <td>1.000000</td>\n",
       "    </tr>\n",
       "  </tbody>\n",
       "</table>\n",
       "</div>"
      ],
      "text/plain": [
       "          glor1     glor2     glor3     glor4     glor5     glor6     glor7\n",
       "glor1  1.000000  0.449206  0.620135  0.458426  0.369847  0.714422  0.294257\n",
       "glor2  0.449206  1.000000  0.505198  0.634064  0.332955  0.495764  0.338035\n",
       "glor3  0.620135  0.505198  1.000000  0.541427  0.402189  0.493316  0.175426\n",
       "glor4  0.458426  0.634064  0.541427  1.000000  0.213433  0.477380  0.311898\n",
       "glor5  0.369847  0.332955  0.402189  0.213433  1.000000  0.351089  0.044802\n",
       "glor6  0.714422  0.495764  0.493316  0.477380  0.351089  1.000000  0.230124\n",
       "glor7  0.294257  0.338035  0.175426  0.311898  0.044802  0.230124  1.000000"
      ]
     },
     "execution_count": 184,
     "metadata": {},
     "output_type": "execute_result"
    }
   ],
   "source": [
    "glor.corr()"
   ]
  },
  {
   "cell_type": "markdown",
   "metadata": {},
   "source": [
    "Based on this result I would remove glorificaiton items 5 and 7 from a computation of participant's glorification scores."
   ]
  }
 ],
 "metadata": {
  "anaconda-cloud": {},
  "kernelspec": {
   "display_name": "Python [default]",
   "language": "python",
   "name": "python3"
  },
  "language_info": {
   "codemirror_mode": {
    "name": "ipython",
    "version": 3
   },
   "file_extension": ".py",
   "mimetype": "text/x-python",
   "name": "python",
   "nbconvert_exporter": "python",
   "pygments_lexer": "ipython3",
   "version": "3.5.2"
  }
 },
 "nbformat": 4,
 "nbformat_minor": 1
}
